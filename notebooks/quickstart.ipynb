{
 "cells": [
  {
   "cell_type": "markdown",
   "id": "44848d11",
   "metadata": {},
   "source": [
    "# SMOTE-Adv - Quick Start Guide\n",
    "\n",
    "This notebook provides a comprehensive introduction to the SMOTE-Adv framework for imbalanced classification.\n",
    "\n",
    "## Overview\n",
    "\n",
    "The framework implements SMOTE-Adv (Adversarially-Filtered SMOTE) for handling imbalanced datasets across different domains:\n",
    "\n",
    "- **Credit Card Fraud Detection**: Extreme imbalance (0.17% fraud rate) - 284,807 transactions\n",
    "- **NSL-KDD Network Intrusion Detection**: Balanced (48.12% attack rate) - 148,517 connections\n",
    "\n",
    "## Supported Augmentation Methods\n",
    "\n",
    "1. **None (Baseline)**: No augmentation, class weighting only\n",
    "2. **SMOTE**: Standard synthetic minority oversampling technique\n",
    "3. **SMOTE-Adv**: Adversarially-filtered SMOTE with single discriminator\n",
    "\n",
    "## Key Features\n",
    "\n",
    "- **Multi-dataset Support**: Unified interface for different dataset types\n",
    "- **Quality-focused Augmentation**: Adversarial filtering removes low-quality synthetic samples\n",
    "- **Comprehensive Evaluation**: ROC-AUC, PR-AUC, F1-macro, F1-weighted metrics\n",
    "- **Reproducible Results**: Controlled random seeds and deterministic settings\n"
   ]
  },
  {
   "cell_type": "markdown",
   "id": "7b0b5bbf",
   "metadata": {},
   "source": [
    "## Setup and Installation\n",
    "\n",
    "First, ensure you have the required dependencies installed:\n",
    "\n",
    "```bash\n",
    "pip install -r requirements.txt\n",
    "```\n",
    "\n",
    "## Dataset Preparation\n",
    "\n",
    "### Credit Card Fraud Dataset\n",
    "Visit the [dataset page](https://www.kaggle.com/mlg-ulb/creditcardfraud), download `creditcard.csv`, and place it at `data/creditcard.csv`.\n",
    "\n",
    "### NSL-KDD Dataset\n",
    "Visit the [NSL-KDD dataset page](https://www.kaggle.com/datasets/hassan06/nslkdd), download the dataset files, and place them in `data/NSL-KDD dataset/` directory. Ensure the directory structure matches: `data/NSL-KDD dataset/KDDTrain+.txt`, `data/NSL-KDD dataset/KDDTest+.txt`, etc.\n"
   ]
  },
  {
   "cell_type": "markdown",
   "metadata": {},
   "source": [
    "## Quick Start Examples\n",
    "\n",
    "### 1. Single Experiment Training\n",
    "\n",
    "Run individual experiments with different augmentation methods:"
   ]
  },
  {
   "cell_type": "code",
   "execution_count": null,
   "metadata": {},
   "outputs": [],
   "source": [
    "# Credit Card Fraud Detection - AF-SMOTE\n",
    "import os\n",
    "os.chdir('..')  # Change to project root directory\n",
    "\n",
    "# Run AF-SMOTE experiment on Credit Card dataset\n",
    "!python src/train.py --dataset creditcard --augment afsmote --rbf-components 300 --rbf-gamma 0.5 --test-size 0.2 --seed 42"
   ]
  },
  {
   "cell_type": "code",
   "execution_count": null,
   "id": "c48e5685",
   "metadata": {},
   "outputs": [],
   "source": [
    "# NSL-KDD Network Intrusion Detection - Baseline\n",
    "!python src/train.py --dataset nsl_kdd --augment none --rbf-components 300 --rbf-gamma 0.5 --test-size 0.2 --seed 42\n"
   ]
  },
  {
   "cell_type": "markdown",
   "id": "d93212ff",
   "metadata": {},
   "source": [
    "### 2. Complete Experiment Suites\n",
    "\n",
    "Run comprehensive experiments for each dataset:\n"
   ]
  },
  {
   "cell_type": "code",
   "execution_count": null,
   "id": "7a5c895e",
   "metadata": {},
   "outputs": [],
   "source": [
    "# Run all Credit Card experiments\n",
    "!python scripts/run_creditcard_experiments.py\n"
   ]
  },
  {
   "cell_type": "code",
   "execution_count": null,
   "id": "d664a622",
   "metadata": {},
   "outputs": [],
   "source": [
    "# Run all NSL-KDD experiments\n",
    "!python scripts/run_nsl_kdd_experiments.py\n"
   ]
  },
  {
   "cell_type": "markdown",
   "id": "d2be37fb",
   "metadata": {},
   "source": [
    "### 3. Generate Augmented Datasets\n",
    "\n",
    "Create augmented datasets for further analysis:\n"
   ]
  },
  {
   "cell_type": "code",
   "execution_count": null,
   "id": "fe3b5e52",
   "metadata": {},
   "outputs": [],
   "source": [
    "# Generate AF-SMOTE augmented Credit Card dataset\n",
    "!python scripts/generate_augmented_datasets.py --method afsmote --dataset creditcard --input data/creditcard.csv --output-dir data/augmented --seed 42\n"
   ]
  },
  {
   "cell_type": "code",
   "execution_count": null,
   "id": "a8209306",
   "metadata": {},
   "outputs": [],
   "source": [
    "# Generate AF-SMOTE augmented NSL-KDD dataset\n",
    "!python scripts/generate_augmented_datasets.py --method afsmote --dataset nsl_kdd --output-dir data/augmented --seed 42\n"
   ]
  },
  {
   "cell_type": "markdown",
   "id": "bef7eed8",
   "metadata": {},
   "source": [
    "### 4. Cross-Dataset Analysis\n",
    "\n",
    "Compare performance across both datasets:\n"
   ]
  },
  {
   "cell_type": "code",
   "execution_count": null,
   "id": "16e887d1",
   "metadata": {},
   "outputs": [],
   "source": [
    "# Run comprehensive accuracy analysis\n",
    "!python scripts/analyze_accuracy_results.py\n"
   ]
  },
  {
   "cell_type": "markdown",
   "id": "020ceea4",
   "metadata": {},
   "source": [
    "## Expected Results\n",
    "\n",
    "### Credit Card Fraud Detection\n",
    "- **Dataset**: 284,807 transactions, 0.17% fraud rate\n",
    "- **Best Method**: Baseline (no augmentation) typically performs best\n",
    "- **Typical Performance**: Accuracy ~53.6%, PR-AUC ~53.7%\n",
    "\n",
    "### NSL-KDD Network Intrusion Detection  \n",
    "- **Dataset**: 148,517 connections, 48.12% attack rate\n",
    "- **Best Method**: Baseline (no augmentation) typically performs best\n",
    "- **Typical Performance**: Accuracy ~93.1%, PR-AUC ~96.9%\n",
    "\n",
    "## Key Insights\n",
    "\n",
    "1. **Class Balance Impact**: Balanced datasets (NSL-KDD) achieve much higher performance\n",
    "2. **Augmentation Effectiveness**: Data augmentation shows minimal benefits on both datasets\n",
    "3. **Quality vs Quantity**: High-quality original samples outperform synthetic samples\n",
    "4. **Domain-Specific Performance**: Network intrusion detection is inherently easier than fraud detection\n",
    "\n",
    "## Output Files\n",
    "\n",
    "- **Experiment Results**: `outputs/*/` directories with metrics and plots\n",
    "- **Augmented Datasets**: `data/augmented/*_augmentation_*.csv`\n",
    "- **Comparison Reports**: `outputs/*_comparison_report/`\n",
    "- **Analysis Results**: `outputs/accuracy_analysis/`\n"
   ]
  }
 ],
 "metadata": {
  "language_info": {
   "name": "python",
   "version": "3.10"
  }
 },
 "nbformat": 4,
 "nbformat_minor": 5
}
